//IMPORT PANDAS AS ALIAS NAME PD
import pandas as pd

//IMPORT THE CSV FILE VIA URL INTO DATAFRAME VARIABLE DF
df = pd.read_csv("https://people.sc.fsu.edu/~jburkardt/data/csv/airtravel.csv")

//PRINT THE ENTIRE DATAFRAME
print(df)

//PRINT THE FIRST 5 ROWNS IN THE DATAFRAME
df.head()

//PRINT THE LAST 5 ROWS IN THE DATAFRAME
df.tail()

//PRINT THE COLUMN NAMES FORM THE DATAFRAME
print(df.columns)

//Loops through each column name (col) in df.columns.
//Removes any extra spaces using .strip().
//Converts the column name to lowercase using .lower().
//Applies this cleaned list back to df.columns.
df.columns= [col.strip().lower() for col in df.columns]

////PRINT THE COLUMN NAMES FORM THE DATAFRAME -- Updated one 
print(df.columns)
